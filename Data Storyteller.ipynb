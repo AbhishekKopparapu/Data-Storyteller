{
 "cells": [
  {
   "cell_type": "markdown",
   "metadata": {},
   "source": [
    "# Financial Forecasting:"
   ]
  },
  {
   "cell_type": "markdown",
   "metadata": {},
   "source": [
    "## Problem:\n",
    "CBRE is committed to its retail client to maintain forecast variance under 10% for every month. "
   ]
  },
  {
   "cell_type": "markdown",
   "metadata": {},
   "source": [
    "## Solution:\n",
    "After conducting data mining, I found Porter Utilization is the major contributor for forecast inaccuracy. Since forecast was considered at 100% any underutilization in Porter directly resulted in major forecasting variances as represented in first visualization. Upon further investigation by building a machine learning model (Linear Regression) it is found that there exits a strong linear relation between these 2 features as Adj R-Square = 68.64% and t-stat = -6.7 and p-value= 1.05E-06. This model is significant as F = 45.97.\n"
   ]
  },
  {
   "cell_type": "markdown",
   "metadata": {},
   "source": [
    "Worked with Finance team to establish under utilization rates for forecast depending on retail period. Porter Utilization varies depending on time periods, for example Back to school will have low porter utilization which is in August because this is not of high profits to service providers, and holidays generally have high utilization because of more traffic in stores. Depending on these periods I established special rates to adjust forecast for 2019 and since then forecast inaccuracy % decreased considerably as shown by the dotted line in the first figure."
   ]
  },
  {
   "cell_type": "markdown",
   "metadata": {},
   "source": [
    "Second figure illustrates the success of this analysis as 2019 accuracy is far higher than prior years. Third figure shows increase in accuracy for various retail periods (Holiday starts from November so I don’t have 2019 data yet)"
   ]
  },
  {
   "cell_type": "code",
   "execution_count": 8,
   "metadata": {
    "scrolled": true
   },
   "outputs": [
    {
     "data": {
      "text/html": [
       "<div class='tableauPlaceholder' id='viz1572923672674' style='position: relative'>\n",
       "    <noscript>\n",
       "        <a href='#'>\n",
       "            <img alt=' ' src='https:&#47;&#47;public.tableau.com&#47;static&#47;images&#47;Da&#47;DataStoryTeller&#47;Dashboard1&#47;1_rss.png' style='border: none' />\n",
       "        </a>\n",
       "    </noscript>\n",
       "    \n",
       "    <object class='tableauViz'  style='display:none;'>\n",
       "        <param name='host_url' value='https%3A%2F%2Fpublic.tableau.com%2F' />\n",
       "        <param name='embed_code_version' value='3' /> \n",
       "        <param name='site_root' value='' />\n",
       "        <param name='name' value='DataStoryTeller&#47;Dashboard1' />\n",
       "        <param name='tabs' value='no' /><param name='toolbar' value='yes' />\n",
       "        <param name='static_image' value='https:&#47;&#47;public.tableau.com&#47;static&#47;images&#47;Da&#47;DataStoryTeller&#47;Dashboard1&#47;1.png' /> \n",
       "        <param name='animate_transition' value='yes' /><param name='display_static_image' value='yes' />\n",
       "        <param name='display_spinner' value='yes' /><param name='display_overlay' value='yes' />\n",
       "        <param name='display_count' value='yes' />\n",
       "    </object>\n",
       "</div>   \n",
       "\n",
       "<script type='text/javascript'> \n",
       "    var divElement = document.getElementById('viz1572923672674'); \n",
       "    var vizElement = divElement.getElementsByTagName('object')[0];\n",
       "    vizElement.style.width='100%';vizElement.style.height=(divElement.offsetWidth*0.5)+'px'; \n",
       "    var scriptElement = document.createElement('script'); \n",
       "    scriptElement.src = 'https://public.tableau.com/javascripts/api/viz_v1.js';  \n",
       "    vizElement.parentNode.insertBefore(scriptElement, vizElement); \n",
       "</script>\n"
      ],
      "text/plain": [
       "<IPython.core.display.HTML object>"
      ]
     },
     "metadata": {},
     "output_type": "display_data"
    }
   ],
   "source": [
    "%%HTML\n",
    "<div class='tableauPlaceholder' id='viz1572923672674' style='position: relative'>\n",
    "    <noscript>\n",
    "        <a href='#'>\n",
    "            <img alt=' ' src='https:&#47;&#47;public.tableau.com&#47;static&#47;images&#47;Da&#47;DataStoryTeller&#47;Dashboard1&#47;1_rss.png' style='border: none' />\n",
    "        </a>\n",
    "    </noscript>\n",
    "    \n",
    "    <object class='tableauViz'  style='display:none;'>\n",
    "        <param name='host_url' value='https%3A%2F%2Fpublic.tableau.com%2F' />\n",
    "        <param name='embed_code_version' value='3' /> \n",
    "        <param name='site_root' value='' />\n",
    "        <param name='name' value='DataStoryTeller&#47;Dashboard1' />\n",
    "        <param name='tabs' value='no' /><param name='toolbar' value='yes' />\n",
    "        <param name='static_image' value='https:&#47;&#47;public.tableau.com&#47;static&#47;images&#47;Da&#47;DataStoryTeller&#47;Dashboard1&#47;1.png' /> \n",
    "        <param name='animate_transition' value='yes' /><param name='display_static_image' value='yes' />\n",
    "        <param name='display_spinner' value='yes' /><param name='display_overlay' value='yes' />\n",
    "        <param name='display_count' value='yes' />\n",
    "    </object>\n",
    "</div>   \n",
    "\n",
    "<script type='text/javascript'> \n",
    "    var divElement = document.getElementById('viz1572923672674'); \n",
    "    var vizElement = divElement.getElementsByTagName('object')[0];\n",
    "    vizElement.style.width='100%';vizElement.style.height=(divElement.offsetWidth*0.5)+'px'; \n",
    "    var scriptElement = document.createElement('script'); \n",
    "    scriptElement.src = 'https://public.tableau.com/javascripts/api/viz_v1.js';  \n",
    "    vizElement.parentNode.insertBefore(scriptElement, vizElement); \n",
    "</script>\n"
   ]
  },
  {
   "cell_type": "markdown",
   "metadata": {},
   "source": [
    "Please use full screen mode for best experience. Scroll down to find full screen button."
   ]
  }
 ],
 "metadata": {
  "kernelspec": {
   "display_name": "Python 3",
   "language": "python",
   "name": "python3"
  },
  "language_info": {
   "codemirror_mode": {
    "name": "ipython",
    "version": 3
   },
   "file_extension": ".py",
   "mimetype": "text/x-python",
   "name": "python",
   "nbconvert_exporter": "python",
   "pygments_lexer": "ipython3",
   "version": "3.7.3"
  }
 },
 "nbformat": 4,
 "nbformat_minor": 2
}
